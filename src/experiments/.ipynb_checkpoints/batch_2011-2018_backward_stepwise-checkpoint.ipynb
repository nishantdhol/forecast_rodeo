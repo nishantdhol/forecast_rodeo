{
 "cells": [
  {
   "cell_type": "markdown",
   "metadata": {},
   "source": [
    "# Batch 2011-2018 backward stepwise\n",
    "\n",
    "Generate MultiLLR (local linear regression with multitask model selection) forecasts for all dates, 2011-2018, using the batch cluster or, optionally, local sequential execution."
   ]
  },
  {
   "cell_type": "code",
   "execution_count": 1,
   "metadata": {},
   "outputs": [],
   "source": [
    "# Autoreload packages that are modified\n",
    "%load_ext autoreload\n",
    "%autoreload 2\n",
    "\n",
    "# Load relevant packages\n",
    "import numpy as np\n",
    "import pandas as pd\n",
    "from sklearn import *\n",
    "import sys\n",
    "import subprocess\n",
    "from datetime import datetime, timedelta\n",
    "import netCDF4\n",
    "import time\n",
    "from functools import partial\n",
    "import os\n",
    "\n",
    "if os.path.basename(os.getcwd()) == \"experiments\":\n",
    "    os.chdir(os.path.join(\"..\",\"..\"))\n",
    "\n",
    "# Adds 'experiments' folder to path to load experiments_util\n",
    "sys.path.insert(0, 'src/experiments')\n",
    "# Load general utility functions\n",
    "from experiments_util import *\n",
    "# Load functionality for fitting and predicting\n",
    "from fit_and_predict import *\n",
    "# Load functionality for evaluation\n",
    "from skill import *\n",
    "# Load functionality for stepwise regression\n",
    "from stepwise_util import *"
   ]
  },
  {
   "cell_type": "code",
   "execution_count": null,
   "metadata": {},
   "outputs": [],
   "source": [
    "#\n",
    "# Choose experiment parameters\n",
    "#\n",
    "gt_id = \"contest_precip\" # \"contest_precip\" or \"contest_tmp2m\"\n",
    "target_horizon = \"56w\" # \"34w\" or \"56w\"\n",
    "margin_in_days = 56\n",
    "criterion = \"mean\"\n",
    "\n",
    "# If run_locally is False, forecast generation jobs for each target date \n",
    "# are submitted to a batch cluster using batch_script (recommended)\n",
    "# If run_locally is True, forecast generation for each target data is \n",
    "# executed locally and sequentially and the setting of batch_script is irrelevant\n",
    "run_locally = False\n",
    "# Shell script for submitting batch job to cluster; please change to your personal \n",
    "# batch cluster submission script.\n",
    "# Usage for our script is:\n",
    "#   src/batch/quick_sbatch_python script.py\\ script_arg1\\ script_arg2 num_cores mem\n",
    "batch_script = 'src/batch/quick_sbatch_python.sh'\n",
    "num_cores = 16\n",
    "mem = \"20GB\"\n",
    "\n",
    "contest_id = get_contest_id(gt_id, target_horizon)\n",
    "\n",
    "#\n",
    "# Create list of submission dates in YYYYMMDD format\n",
    "#\n",
    "submission_dates = [datetime(y,4,18)+timedelta(14*i) for y in range(2011,2018) for i in range(26)]\n",
    "submission_dates = ['{}{:02d}{:02d}'.format(date.year, date.month, date.day) for date in submission_dates]"
   ]
  },
  {
   "cell_type": "code",
   "execution_count": null,
   "metadata": {},
   "outputs": [],
   "source": [
    "#\n",
    "# Generate forecasts for each date by submitting batch job or executing locally\n",
    "#\n",
    "fitting_script = 'src/experiments/2011-2018_backward_stepwise.py'\n",
    "for submission_date_str in submission_dates:\n",
    "    # Load result file name for checking convergence for this submission date\n",
    "    file_name = default_result_file_names(\n",
    "        gt_id = gt_id, \n",
    "        target_horizon = target_horizon, \n",
    "        margin_in_days = margin_in_days,\n",
    "        criterion = criterion,\n",
    "        submission_date_str = submission_date_str,\n",
    "        procedure = \"backward_stepwise\",\n",
    "        hindcast_folder = False,\n",
    "        hindcast_features = False,\n",
    "        use_knn1 = False)[\"converged\"]\n",
    "    file_name = file_name.replace(\"contest_period\", \"2011-2018\")\n",
    "    # Only run job if result file does not yet exist\n",
    "    if not os.path.exists(file_name):        \n",
    "        if run_locally:\n",
    "            # Execute command locally\n",
    "            cmd = \"{} {} {} {} {} {} {} {} {}\".format(\n",
    "                \"python\", fitting_script, \n",
    "                gt_id, target_horizon,  \n",
    "                margin_in_days, criterion,\n",
    "                False, submission_date_str, num_cores)\n",
    "        else:\n",
    "            # Submit batch job\n",
    "            cmd = r\"\"\"{} {}\\ {}\\ {}\\ {}\\ {}\\ {}\\ {}\\ {} {} {}\"\"\".format(\n",
    "                batch_script, fitting_script, \n",
    "                gt_id, target_horizon, \n",
    "                margin_in_days, criterion,\n",
    "                False,\n",
    "                submission_date_str, num_cores,\n",
    "                num_cores, mem)\n",
    "        print cmd\n",
    "        os.system(cmd)"
   ]
  },
  {
   "cell_type": "code",
   "execution_count": null,
   "metadata": {},
   "outputs": [],
   "source": []
  }
 ],
 "metadata": {
  "kernelspec": {
   "display_name": "Python 2",
   "language": "python",
   "name": "python2"
  },
  "language_info": {
   "codemirror_mode": {
    "name": "ipython",
    "version": 2
   },
   "file_extension": ".py",
   "mimetype": "text/x-python",
   "name": "python",
   "nbconvert_exporter": "python",
   "pygments_lexer": "ipython2",
   "version": "2.7.18"
  }
 },
 "nbformat": 4,
 "nbformat_minor": 2
}
