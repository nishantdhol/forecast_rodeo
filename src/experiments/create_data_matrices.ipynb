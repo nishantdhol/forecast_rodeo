{
 "cells": [
  {
   "cell_type": "markdown",
   "metadata": {},
   "source": [
    "## Load packages"
   ]
  },
  {
   "cell_type": "code",
   "execution_count": 2,
   "metadata": {},
   "outputs": [],
   "source": [
    "# Autoreload packages that are modified\n",
    "%load_ext autoreload\n",
    "%autoreload 2\n",
    "\n",
    "import os\n",
    "import sys\n",
    "\n",
    "# Ensure correct working directory\n",
    "if os.path.basename(os.getcwd()) == \"experiments\":\n",
    "    os.chdir(os.path.join(\"..\",\"..\"))\n",
    "\n",
    "# Adds 'experiments' folder to path to load experiments_util\n",
    "sys.path.insert(0, 'src/experiments')\n",
    "# Load general utility functions\n",
    "from experiments_util import *"
   ]
  },
  {
   "cell_type": "markdown",
   "metadata": {},
   "source": [
    "## Create (shared) data matrices\n",
    "\n",
    "Generates two data matrices containing all needed features that vary by date only (create_date_data) or by date and latitude/longitude (create_lat_lon_date_data) and saves them to results/regression/shared."
   ]
  },
  {
   "cell_type": "code",
   "execution_count": 4,
   "metadata": {},
   "outputs": [
    {
     "name": "stdout",
     "output_type": "stream",
     "text": [
      "Loading date features\n",
      "Getting mei_shift59\n",
      "Elapsed: 0.178999900818s\n",
      "Getting mjo_shift31\n",
      "Elapsed: 0.129999876022s\n",
      "Getting pca_sst_2010_shift44\n",
      "Elapsed: 0.0859999656677s\n",
      "Getting pca_icec_2010_shift44\n",
      "Elapsed: 0.0609998703003s\n",
      "Getting pca_wind_hgt_10_2010_shift44\n",
      "Elapsed: 0.113999843597s\n",
      "Getting pca_wind_hgt_100_2010_shift44\n",
      "Elapsed: 0.0960001945496s\n",
      "Getting pca_wind_hgt_500_2010_shift44\n",
      "Elapsed: 0.0889999866486s\n",
      "Getting pca_wind_hgt_850_2010_shift44\n",
      "Elapsed: 0.095999956131s\n",
      "Loading additional date features\n",
      "Elapsed: 0.0179998874664s\n",
      "Saving date features to results\\regression\\shared\\contest_precip_56w\\date_data-contest_precip_56w.h5\n",
      "Elapsed: 0.101999998093s\n",
      "Finished generating date_data matrix.\n",
      "Total time elapsed: 0.982000112534s\n",
      "Loading contest mask\n",
      "Elapsed: 0.0260000228882s\n",
      "Loading lat lon date features\n",
      "Getting contest_rhum.sig995_shift44\n",
      "Elapsed: 17.9400000572s\n",
      "Getting contest_pres.sfc.gauss_shift44\n",
      "Elapsed: 26.6629998684s\n",
      "Getting contest_rhum.sig995_shift88\n",
      "Elapsed: 24.9850001335s\n",
      "Getting contest_pres.sfc.gauss_shift88\n",
      "Elapsed: 23.5050001144s\n",
      "Getting contest_rhum.sig995_shift365\n",
      "Elapsed: 24.8190000057s\n",
      "Getting contest_pres.sfc.gauss_shift365\n",
      "Elapsed: 25.0629999638s\n",
      "Getting nmme-prate-56w_shiftNone\n",
      "Elapsed: 23.2419998646s\n",
      "Getting nmme0-prate-56w_shiftNone\n",
      "Elapsed: 18.0989999771s\n",
      "Getting nmme-prate-56w_shift29\n",
      "Elapsed: 34.8420000076s\n",
      "Getting nmme0-prate-56w_shift29\n",
      "Elapsed: 40.9389998913s\n",
      "Getting contest_precip_shiftNone with anomalies\n",
      "Elapsed: 49.6010000706s\n",
      "Getting contest_precip_shift43 with anomalies\n",
      "Elapsed: 39.7790000439s\n",
      "Getting contest_tmp2m_shift43 with anomalies\n",
      "Elapsed: 38.2760000229s\n",
      "Getting contest_precip_shift86 with anomalies\n",
      "Elapsed: 42.6579999924s\n",
      "Getting contest_tmp2m_shift86 with anomalies\n",
      "Elapsed: 44.1089999676s\n",
      "Getting contest_precip_shift365 with anomalies\n",
      "Elapsed: 54.2960000038s\n",
      "Getting contest_tmp2m_shift365 with anomalies\n",
      "Elapsed: 52.2510001659s\n",
      "Loading additional lat lon date features\n",
      "Elapsed: 36.6009998322s\n",
      "Saving lat lon date features to results\\regression\\shared\\contest_precip_56w\\lat_lon_date_data-contest_precip_56w.h5\n",
      "Elapsed: 127.15199995s\n",
      "Finished generating lat_lon_date_data matrix.\n",
      "Total time elapsed: 745.041000128s\n"
     ]
    }
   ],
   "source": [
    "gt_id = \"contest_precip\" # \"contest_precip\" or \"contest_tmp2m\"\n",
    "target_horizon = \"56w\" # \"34w\" or \"56w\"\n",
    "experiment = \"regression\"\n",
    "\n",
    "date_cols = create_date_data(gt_id, target_horizon, experiment)\n",
    "lat_lon_date_cols = create_lat_lon_date_data(gt_id, target_horizon, experiment,forecast_models=[\"nmme\",\"nmme0\"])"
   ]
  },
  {
   "cell_type": "markdown",
   "metadata": {},
   "source": [
    "### "
   ]
  },
  {
   "cell_type": "code",
   "execution_count": null,
   "metadata": {},
   "outputs": [],
   "source": []
  }
 ],
 "metadata": {
  "kernelspec": {
   "display_name": "Python 2",
   "language": "python",
   "name": "python2"
  },
  "language_info": {
   "codemirror_mode": {
    "name": "ipython",
    "version": 2
   },
   "file_extension": ".py",
   "mimetype": "text/x-python",
   "name": "python",
   "nbconvert_exporter": "python",
   "pygments_lexer": "ipython2",
   "version": "2.7.18"
  }
 },
 "nbformat": 4,
 "nbformat_minor": 2
}
